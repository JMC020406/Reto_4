{
 "cells": [
  {
   "cell_type": "markdown",
   "metadata": {},
   "source": [
    "# RETO 4"
   ]
  },
  {
   "cell_type": "markdown",
   "metadata": {},
   "source": [
    "### ¿Es el número una minúscula en ASCII?\n",
    "#### punto 1"
   ]
  },
  {
   "cell_type": "code",
   "execution_count": null,
   "metadata": {},
   "outputs": [],
   "source": [
    "#Definición de variable\n",
    "num=int(input(\"ingrese un número entero positivo: \"))\n",
    "\n",
    "#¿Es o no es?\n",
    "if 97<=num<=122:\n",
    "    print(\"El número \"+str(num)+\" es una minúscula en el código ASCII\")\n",
    "\n",
    "else:\n",
    "    print(\"El número \"+str(num)+\" no equivale a una letra minúscula en el código ASCII\")"
   ]
  },
  {
   "cell_type": "markdown",
   "metadata": {},
   "source": [
    "### ¿El primer caracter de una cadena es par o impar en el código ASCII?\n",
    "#### punto 2"
   ]
  },
  {
   "cell_type": "code",
   "execution_count": null,
   "metadata": {},
   "outputs": [],
   "source": [
    "#definición de cadena\n",
    "s=(input(\"ingrese el escrito que quiera: \"))\n",
    "\n",
    "#¿El caracter será par o impar?\n",
    "primera_letra= (s[0])\n",
    "\n",
    "if ord(primera_letra)%2 == 0:\n",
    "    print(\"está letra es par\")\n",
    "\n",
    "else:\n",
    "    print(\"esta letra es impar\")"
   ]
  },
  {
   "cell_type": "markdown",
   "metadata": {},
   "source": [
    "### ¿Es el caracter un dígito o no?\n",
    "#### Punto 3"
   ]
  },
  {
   "cell_type": "code",
   "execution_count": null,
   "metadata": {},
   "outputs": [],
   "source": [
    "#Definición de variable\n",
    "s=input(\"ingrese un caracter único cualquiera: \")\n",
    "\n",
    "#¿Es un dígito o no?\n",
    "if 48<=ord(s)<=57:\n",
    "    print(\"ese caracter es un dígito en el código ASCII\")\n",
    "else:\n",
    "    print(\"ese caracter no es un dígito en el código ASCII\")"
   ]
  },
  {
   "cell_type": "markdown",
   "metadata": {},
   "source": [
    "### ¿Negativo, positivo o neutro?\n",
    "#### Punto 4"
   ]
  },
  {
   "cell_type": "code",
   "execution_count": null,
   "metadata": {},
   "outputs": [],
   "source": [
    "#Determinar variable\n",
    "x=float(input(\"inserte el número entero que quiera: \"))\n",
    "\n",
    "#Es negativo, positivo o es 0?\n",
    "\n",
    "if x < 0:\n",
    "    print(\"el número \"+str(x)+\" es negativo\")\n",
    "\n",
    "elif x > 0:\n",
    "    print(\"el número \"+ str(x) +\" es positivo\")\n",
    "\n",
    "else:\n",
    "    print(\"el número \"+ str(x) +\" es el neutro para la suma\")"
   ]
  },
  {
   "cell_type": "markdown",
   "metadata": {},
   "source": [
    "### ¿Está dentro del círculo?\n",
    "#### Punto 5"
   ]
  },
  {
   "cell_type": "code",
   "execution_count": null,
   "metadata": {},
   "outputs": [],
   "source": [
    "#Definición de Variables\n",
    "x=float(input(\"inserte el valor para x: \"))\n",
    "y=float(input(\"inserte el valor para y: \"))\n",
    "k=float(input(\"inserte el valor para k: \"))\n",
    "h=float(input(\"inserte el valor para h: \"))\n",
    "r=float(input(\"inserte el valor del radio: \"))\n",
    "\n",
    "#Hacer la circunferencia y calcular\n",
    "\n",
    "if (x**2-2*x*k+k**2) + (y**2-2*y*h+h**2) <= r**2:\n",
    "    print(\"las coordenadas (\"+str(x)+\",\"+str(y)+\") estan dentro del circulo de centro (\"+str(k)+\",\"+str(h)+\") y de radio \"+str(r))\n",
    "\n",
    "else:\n",
    "    print(\"las coordenadas (\"+str(x)+\",\"+str(y)+\") estan fuera del circulo de centro (\"+str(k)+\",\"+str(h)+\") y de radio \"+str(r))"
   ]
  },
  {
   "cell_type": "markdown",
   "metadata": {},
   "source": [
    "### Desigualdad triangular\n",
    "#### Punto 6"
   ]
  },
  {
   "cell_type": "code",
   "execution_count": null,
   "metadata": {},
   "outputs": [],
   "source": [
    "#Determinar longitudes variables\n",
    "a=float(input(\"seleccione el valor del lado a: \"))\n",
    "b=float(input(\"seleccione el valor del lado b: \"))\n",
    "c=float(input(\"seleccione el valor del lado c: \"))\n",
    "\n",
    "#¿Se puede formar un triángulo?\n",
    "if a+b>=c:\n",
    "    if b+c>=a:\n",
    "        if a+c>=b:\n",
    "            print(\"el triangulo con los lados a=\"+str(a)+\" , b=\"+str(b)+\" y c=\"+str(c)+\" , se puede formar\")\n",
    "else:\n",
    "    print(\"no se puede formar un triángulo con los lados a=\"+str(a)+\" , b=\"+str(b)+\" y c=\"+str(c))"
   ]
  }
 ],
 "metadata": {
  "kernelspec": {
   "display_name": "Python 3",
   "language": "python",
   "name": "python3"
  },
  "language_info": {
   "name": "python",
   "version": "3.11.8"
  }
 },
 "nbformat": 4,
 "nbformat_minor": 2
}
